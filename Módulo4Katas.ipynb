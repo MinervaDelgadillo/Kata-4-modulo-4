{
 "cells": [
  {
   "cell_type": "code",
   "execution_count": 9,
   "metadata": {},
   "outputs": [
    {
     "name": "stdout",
     "output_type": "stream",
     "text": [
      "Ejercicio 1: Transformar cadenas\n",
      " \n",
      "On average, the Moon moves 4cm away from the Earth every year\n",
      " The highest daylight temperature of the Moon is 127 C\n",
      " \n",
      "On average, the Moon moves 4cm away from the Earth every year\n",
      " The highest daylight temperature of the Moon is 127 Celsius\n"
     ]
    }
   ],
   "source": [
    "print(\"Ejercicio 1: Transformar cadenas\")\n",
    "text = \"\"\"Interesting facts about the Moon. The Moon is Earth's only satellite. There are several interesting facts about the Moon and how it affects life here on Earth. \n",
    "On average, the Moon moves 4cm away from the Earth every year. This yearly drift is not significant enough to cause immediate effects on Earth. The highest daylight temperature of the Moon is 127 C.\"\"\"\n",
    "\n",
    "#Para dividir la cadena ocuparemos .split\n",
    "dividir = text.split('.')\n",
    "dividir\n",
    "# Palabras clave   average, temperature y distance suenan bien\n",
    "clave =\"average\",\"temperature\",\"distance\"\n",
    "# Ciclo for para recorrer la cadena\n",
    "for texto in dividir:\n",
    "    for claves in clave:\n",
    "        if claves in texto:\n",
    "            print(texto)\n",
    "            break\n",
    "# Ciclo para cambiar C a Celsius\n",
    "for texto in dividir:\n",
    "    for claves in clave:\n",
    "        if claves in texto:\n",
    "            print(texto.replace(' C', ' celsius'))\n",
    "            break"
   ]
  },
  {
   "cell_type": "code",
   "execution_count": 24,
   "metadata": {},
   "outputs": [
    {
     "name": "stdout",
     "output_type": "stream",
     "text": [
      "Ejercicio 2: Formateando Cadenas\n",
      "La gravedad es diferente en la Luna que en la Tierra\n",
      "Gravity Facts about Luna\n",
      "------------------------------\n",
      "Planet Name: Tierra\n",
      "Gravity on Luna: 1.6199999999999999 m/s2\n"
     ]
    }
   ],
   "source": [
    "print(\"Ejercicio 2: Formateando Cadenas\")\n",
    "# Datos con los que vas a trabajar\n",
    "name = \"Luna\"\n",
    "gravity = 0.00162 # in kms\n",
    "planet = \"Tierra\"\n",
    "# Creamos el título\n",
    "titulo = \"La gravedad es diferente en la \" +name + \" que en la \" +planet\n",
    "print(titulo)\n",
    "# Creamos la plantilla\n",
    "print(\"Gravity Facts about \" + name)\n",
    "div =('-'*30)\n",
    "print(div)\n",
    "print(\"Planet Name: \"+ planet)\n",
    "gravity= gravity*1000\n",
    "string=str(gravity)\n",
    "print(\"Gravity on \" + name+ \": \"+string +\" m/s2\")"
   ]
  }
 ],
 "metadata": {
  "interpreter": {
   "hash": "6d789933423f2026dd762f632057f7ae59cc19f3153fdbf8a64e7992d654ea7e"
  },
  "kernelspec": {
   "display_name": "Python 3.10.2 64-bit",
   "language": "python",
   "name": "python3"
  },
  "language_info": {
   "codemirror_mode": {
    "name": "ipython",
    "version": 3
   },
   "file_extension": ".py",
   "mimetype": "text/x-python",
   "name": "python",
   "nbconvert_exporter": "python",
   "pygments_lexer": "ipython3",
   "version": "3.10.2"
  },
  "orig_nbformat": 4
 },
 "nbformat": 4,
 "nbformat_minor": 2
}
